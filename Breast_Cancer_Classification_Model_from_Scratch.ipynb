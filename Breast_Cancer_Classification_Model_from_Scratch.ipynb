{
 "cells": [
  {
   "cell_type": "markdown",
   "id": "9d5639a7-14a6-42f8-afbf-26e6d8e02a26",
   "metadata": {},
   "source": [
    "# Project Overview\n",
    "In this project, we'll build a <b>binary classification model</b> from scratch to predict whether a tumor is malignant or benign based on its size. We'll implement:\n",
    "- Logistic Regression from scratch.\n",
    "- Use Gradient Descent for optimization.\n",
    "- Sigmoid Function for probability estimation.\n",
    "- Cross-Entropy Loss as the cost function.\n",
    "- Visualization of decision boundaries."
   ]
  },
  {
   "cell_type": "code",
   "execution_count": 7,
   "id": "f55e9da8-e3c2-4d52-8a66-e75447c8410d",
   "metadata": {},
   "outputs": [],
   "source": [
    "# Import Required Libraries\n",
    "import numpy as np\n",
    "import pandas as pd\n",
    "import matplotlib.pyplot as plt\n",
    "from sklearn.datasets import load_breast_cancer\n",
    "from sklearn.model_selection import train_test_split\n",
    "from sklearn.preprocessing import StandardScaler"
   ]
  },
  {
   "cell_type": "code",
   "execution_count": 9,
   "id": "99f77bf4-6508-45d3-adc0-5b39bdca1a87",
   "metadata": {},
   "outputs": [
    {
     "name": "stdout",
     "output_type": "stream",
     "text": [
      "Dataset Shape: (569, 30)\n",
      "Feature Names: ['mean radius' 'mean texture' 'mean perimeter' 'mean area'\n",
      " 'mean smoothness' 'mean compactness' 'mean concavity'\n",
      " 'mean concave points' 'mean symmetry' 'mean fractal dimension'\n",
      " 'radius error' 'texture error' 'perimeter error' 'area error'\n",
      " 'smoothness error' 'compactness error' 'concavity error'\n",
      " 'concave points error' 'symmetry error' 'fractal dimension error'\n",
      " 'worst radius' 'worst texture' 'worst perimeter' 'worst area'\n",
      " 'worst smoothness' 'worst compactness' 'worst concavity'\n",
      " 'worst concave points' 'worst symmetry' 'worst fractal dimension']\n",
      "Class Distribution: [212 357]\n"
     ]
    }
   ],
   "source": [
    "# Load the dataset\n",
    "cancer = load_breast_cancer()\n",
    "X = cancer.data\n",
    "y = cancer.target\n",
    "\n",
    "# Display dataset information\n",
    "print(f\"Dataset Shape: {X.shape}\")\n",
    "print(f\"Feature Names: {cancer.feature_names}\")\n",
    "print(f\"Class Distribution: {np.bincount(y)}\")\n",
    "\n",
    "# Split the dataset into training and testing sets (80-20 split)\n",
    "X_train, X_test, y_train, y_test = train_test_split(X, y, test_size=0.2, random_state=42)\n",
    "\n",
    "# Normalize the features using StandardScaler\n",
    "scaler = StandardScaler()\n",
    "X_train_normalized = scaler.fit_transform(X_train)\n",
    "X_test_normalized = scaler.transform(X_test)\n",
    "\n",
    "# Add bias term to both train and test data\n",
    "X_train_with_bias = np.c_[np.ones(X_train_normalized.shape[0]), X_train_normalized]\n",
    "X_test_with_bias = np.c_[np.ones(X_test_normalized.shape[0]), X_test_normalized]\n"
   ]
  },
  {
   "cell_type": "markdown",
   "id": "25df47ba-ab0a-41fa-b292-5786219f63a4",
   "metadata": {},
   "source": [
    "### We'll implement:\n",
    "- Sigmoid function for the logistic regression model.\n",
    "- Cross-Entropy Loss for the cost function.\n",
    "- Gradient Descent to optimize the model.\n",
    "\n",
    "<b>Sigmoid Function</b>\n",
    "$$g(z) = \\frac{1}{1+e^{-z}}$$\n",
    " \n",
    "<b>Cross-Entropy Loss</b>\n",
    "$$ J(\\mathbf{w},b) = \\frac{1}{m} \\sum_{i=0}^{m-1} \\left[ -y^{(i)} \\log\\left(f_{\\mathbf{w},b}\\left( \\mathbf{x}^{(i)} \\right) \\right) - \\left( 1 - y^{(i)}\\right) \\log \\left( 1 - f_{\\mathbf{w},b}\\left( \\mathbf{x}^{(i)} \\right) \\right) \\right]$$\n",
    "\n",
    "<b>Gradient Descent Update Rule</b>\n",
    "$$ W=W−α⋅∇ $$\n",
    "\n"
   ]
  },
  {
   "cell_type": "code",
   "execution_count": 27,
   "id": "ea5f188c-d41d-498c-8fda-1a44a325d403",
   "metadata": {},
   "outputs": [],
   "source": [
    "# Sigmoid function\n",
    "def sigmoid(z):\n",
    "    return 1 / (1 + np.exp(-z))\n",
    "\n",
    "# Prediction function\n",
    "def predict(X, weights):\n",
    "    return sigmoid(np.dot(X, weights))\n",
    "\n",
    "# Cross-entropy loss\n",
    "def cross_entropy_loss(y, y_pred):\n",
    "    epsilon = 1e-10  # To avoid log(0) errors\n",
    "    return -np.mean(y * np.log(y_pred + epsilon) + (1 - y) * np.log(1 - y_pred + epsilon))\n",
    "\n",
    "# Gradient Descent\n",
    "def gradient_descent(X, y, weights, learning_rate, epochs):\n",
    "    m = len(y)\n",
    "    history = []\n",
    "\n",
    "    for i in range(epochs):\n",
    "        # Predictions\n",
    "        y_pred = predict(X, weights)\n",
    "\n",
    "        # Compute the gradient\n",
    "        gradient = (1/m) * np.dot(X.T, (y_pred - y))\n",
    "\n",
    "        # Update weights\n",
    "        weights -= learning_rate * gradient\n",
    "\n",
    "        # Calculate loss\n",
    "        loss = cross_entropy_loss(y, y_pred)\n",
    "        history.append(loss)\n",
    "\n",
    "        # Print progress every 100 epochs\n",
    "        if i % 100 == 0:\n",
    "            print(f'Epoch {i}, Loss: {loss:.4f}')\n",
    "    \n",
    "    return weights, history"
   ]
  },
  {
   "cell_type": "code",
   "execution_count": 29,
   "id": "e55fe6d5-7217-4532-ba35-6c1ebbf92d1f",
   "metadata": {},
   "outputs": [
    {
     "name": "stdout",
     "output_type": "stream",
     "text": [
      "Epoch 0, Loss: 2.4265\n",
      "Epoch 100, Loss: 0.7160\n",
      "Epoch 200, Loss: 0.3357\n",
      "Epoch 300, Loss: 0.2229\n",
      "Epoch 400, Loss: 0.1757\n",
      "Epoch 500, Loss: 0.1505\n",
      "Epoch 600, Loss: 0.1354\n",
      "Epoch 700, Loss: 0.1256\n",
      "Epoch 800, Loss: 0.1187\n",
      "Epoch 900, Loss: 0.1137\n"
     ]
    },
    {
     "data": {
      "image/png": "[encoded data removed]",
      "text/plain": [
       "<Figure size 1000x600 with 1 Axes>"
      ]
     },
     "metadata": {},
     "output_type": "display_data"
    }
   ],
   "source": [
    "# Initialize weights\n",
    "weights = np.random.randn(X_train_with_bias.shape[1])\n",
    "\n",
    "# Training parameters\n",
    "learning_rate = 0.01\n",
    "epochs = 1000\n",
    "\n",
    "# Train the model\n",
    "weights, loss_history = gradient_descent(X_train_with_bias, y_train, weights, learning_rate, epochs)\n",
    "\n",
    "# Plot the loss curve\n",
    "plt.figure(figsize=(10, 6))\n",
    "plt.plot(range(epochs), loss_history, label='Loss History', color='purple')\n",
    "plt.xlabel('Epochs')\n",
    "plt.ylabel('Loss')\n",
    "plt.title('Loss Reduction Over Time')\n",
    "plt.legend()\n",
    "plt.show()"
   ]
  },
  {
   "cell_type": "markdown",
   "id": "95315969-40a6-402f-9015-813f6d5d6155",
   "metadata": {},
   "source": [
    "### Model Prediction and Evaluation"
   ]
  },
  {
   "cell_type": "code",
   "execution_count": 35,
   "id": "54c792da-645e-46e0-9bf2-49821d261384",
   "metadata": {},
   "outputs": [
    {
     "name": "stdout",
     "output_type": "stream",
     "text": [
      "Accuracy: 94.74%\n",
      "Precision: 0.9710\n",
      "Recall: 0.9437\n",
      "F1-Score: 0.9571\n"
     ]
    }
   ],
   "source": [
    "# Make predictions on the test set\n",
    "y_test_pred_prob = predict(X_test_with_bias, weights)\n",
    "y_test_pred = (y_test_pred_prob >= 0.5).astype(int)\n",
    "\n",
    "# Accuracy\n",
    "accuracy = np.mean(y_test_pred == y_test) * 100\n",
    "\n",
    "# Precision, Recall, and F1-Score\n",
    "TP = np.sum((y_test_pred == 1) & (y_test == 1))\n",
    "TN = np.sum((y_test_pred == 0) & (y_test == 0))\n",
    "FP = np.sum((y_test_pred == 1) & (y_test == 0))\n",
    "FN = np.sum((y_test_pred == 0) & (y_test == 1))\n",
    "\n",
    "precision = TP / (TP + FP)\n",
    "recall = TP / (TP + FN)\n",
    "f1_score = 2 * (precision * recall) / (precision + recall)\n",
    "\n",
    "# Print evaluation metrics\n",
    "print(f\"Accuracy: {accuracy:.2f}%\")\n",
    "print(f\"Precision: {precision:.4f}\")\n",
    "print(f\"Recall: {recall:.4f}\")\n",
    "print(f\"F1-Score: {f1_score:.4f}\")"
   ]
  },
  {
   "cell_type": "code",
   "execution_count": null,
   "id": "8a5d855b-0971-4e4f-ab4f-bc1a479b9ce2",
   "metadata": {},
   "outputs": [],
   "source": []
  }
 ],
 "metadata": {
  "kernelspec": {
   "display_name": "Python [conda env:base] *",
   "language": "python",
   "name": "conda-base-py"
  },
  "language_info": {
   "codemirror_mode": {
    "name": "ipython",
    "version": 3
   },
   "file_extension": ".py",
   "mimetype": "text/x-python",
   "name": "python",
   "nbconvert_exporter": "python",
   "pygments_lexer": "ipython3",
   "version": "3.11.5"
  }
 },
 "nbformat": 4,
 "nbformat_minor": 5
}
